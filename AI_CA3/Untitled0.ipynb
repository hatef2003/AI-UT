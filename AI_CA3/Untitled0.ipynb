{
  "nbformat": 4,
  "nbformat_minor": 0,
  "metadata": {
    "colab": {
      "provenance": []
    },
    "kernelspec": {
      "name": "python3",
      "display_name": "Python 3"
    },
    "language_info": {
      "name": "python"
    }
  },
  "cells": [
    {
      "cell_type": "markdown",
      "source": [
        "# Define Problem\n",
        "`we want to clustering pictures of flowers (semi-superwised).`"
      ],
      "metadata": {
        "id": "ObqBANip8CjG"
      }
    },
    {
      "cell_type": "markdown",
      "source": [
        "## preprocessing\n",
        "at first, the drive is connected to drive to read data from the drive and extract features and do clustering on features"
      ],
      "metadata": {
        "id": "TD8Sd0d48iy2"
      }
    },
    {
      "cell_type": "code",
      "execution_count": 1,
      "metadata": {
        "colab": {
          "base_uri": "https://localhost:8080/"
        },
        "id": "70PhWxKBa0C4",
        "outputId": "eac46281-9b29-4eae-c9f3-28705bf94a2e"
      },
      "outputs": [
        {
          "output_type": "stream",
          "name": "stdout",
          "text": [
            "Mounted at /content/drive/\n"
          ]
        }
      ],
      "source": [
        "\n",
        "from google.colab import drive\n",
        "drive.mount('/content/drive/')"
      ]
    },
    {
      "cell_type": "code",
      "source": [
        "PATH = \"/content/drive/MyDrive/AI-CA03/flower_images/\"\n",
        "import os as os\n",
        "import pandas as pd\n",
        "import cv2 as cv\n",
        "import numpy as np\n",
        "from sklearn.decomposition import PCA"
      ],
      "metadata": {
        "id": "KlRjmRD0a7nU"
      },
      "execution_count": 162,
      "outputs": []
    },
    {
      "cell_type": "code",
      "source": [
        "data_names = os.listdir(PATH)\n",
        "data_dict = {}\n",
        "label_dict = {}\n",
        "labels = pd.read_csv(PATH + \"flower_labels.csv\")"
      ],
      "metadata": {
        "id": "NwyWSljHfh1N"
      },
      "execution_count": 146,
      "outputs": []
    },
    {
      "cell_type": "code",
      "source": [
        "from keras.preprocessing import image\n",
        "from keras.applications.vgg16 import VGG16"
      ],
      "metadata": {
        "id": "HRyRQGNFhqva"
      },
      "execution_count": 147,
      "outputs": []
    },
    {
      "cell_type": "markdown",
      "source": [
        "### here the pretraind model is used abd the coefs are coefs of imagenet vgg16"
      ],
      "metadata": {
        "id": "zFndZ9mF9lof"
      }
    },
    {
      "cell_type": "code",
      "source": [
        "model  = VGG16(weights='imagenet')"
      ],
      "metadata": {
        "id": "pKoPQ4VhbDdA"
      },
      "execution_count": 148,
      "outputs": []
    },
    {
      "cell_type": "markdown",
      "source": [
        "### pictures are read by keras preprocessing and they have been converted to an array then they enter the model for feature extraction"
      ],
      "metadata": {
        "id": "8H84eu7E9-NT"
      }
    },
    {
      "cell_type": "code",
      "source": [
        "data_list = []\n",
        "for name in data_names:\n",
        "  if (name.split('.')[-1] == \"png\"):\n",
        "    picture = image.load_img(PATH+name ,color_mode='rgb', target_size=(224, 224) )\n",
        "    picture = image.img_to_array(picture)\n",
        "    picture = np.expand_dims(picture , axis = 0)\n",
        "    features = model.predict(picture)\n",
        "    print(features.shape)\n",
        "    data_list.append(np.array(features))\n",
        "\n",
        "    data_dict[int(name.split('.')[0])] = features\n",
        "    label_dict[int(name.split('.')[0])] = labels['label'].iloc[int(name.split('.')[0]) -1]\n"
      ],
      "metadata": {
        "id": "c8hskS0YhExI",
        "colab": {
          "base_uri": "https://localhost:8080/"
        },
        "outputId": "be031dc3-02c7-400d-829d-4234160cf2b5"
      },
      "execution_count": 156,
      "outputs": [
        {
          "output_type": "stream",
          "name": "stdout",
          "text": [
            "1/1 [==============================] - 1s 1s/step\n",
            "(1, 1000)\n",
            "1/1 [==============================] - 1s 861ms/step\n",
            "(1, 1000)\n",
            "1/1 [==============================] - 1s 839ms/step\n",
            "(1, 1000)\n",
            "1/1 [==============================] - 1s 867ms/step\n",
            "(1, 1000)\n",
            "1/1 [==============================] - 1s 856ms/step\n",
            "(1, 1000)\n",
            "1/1 [==============================] - 1s 828ms/step\n",
            "(1, 1000)\n",
            "1/1 [==============================] - 1s 521ms/step\n",
            "(1, 1000)\n",
            "1/1 [==============================] - 1s 532ms/step\n",
            "(1, 1000)\n",
            "1/1 [==============================] - 1s 528ms/step\n",
            "(1, 1000)\n",
            "1/1 [==============================] - 1s 519ms/step\n",
            "(1, 1000)\n",
            "1/1 [==============================] - 1s 533ms/step\n",
            "(1, 1000)\n",
            "1/1 [==============================] - 1s 513ms/step\n",
            "(1, 1000)\n",
            "1/1 [==============================] - 1s 526ms/step\n",
            "(1, 1000)\n",
            "1/1 [==============================] - 1s 516ms/step\n",
            "(1, 1000)\n",
            "1/1 [==============================] - 1s 844ms/step\n",
            "(1, 1000)\n",
            "1/1 [==============================] - 1s 850ms/step\n",
            "(1, 1000)\n",
            "1/1 [==============================] - 1s 884ms/step\n",
            "(1, 1000)\n",
            "1/1 [==============================] - 1s 663ms/step\n",
            "(1, 1000)\n",
            "1/1 [==============================] - 1s 531ms/step\n",
            "(1, 1000)\n",
            "1/1 [==============================] - 1s 516ms/step\n",
            "(1, 1000)\n",
            "1/1 [==============================] - 1s 538ms/step\n",
            "(1, 1000)\n",
            "1/1 [==============================] - 1s 518ms/step\n",
            "(1, 1000)\n",
            "1/1 [==============================] - 1s 514ms/step\n",
            "(1, 1000)\n",
            "1/1 [==============================] - 1s 530ms/step\n",
            "(1, 1000)\n",
            "1/1 [==============================] - 1s 522ms/step\n",
            "(1, 1000)\n",
            "1/1 [==============================] - 1s 542ms/step\n",
            "(1, 1000)\n",
            "1/1 [==============================] - 1s 522ms/step\n",
            "(1, 1000)\n",
            "1/1 [==============================] - 1s 530ms/step\n",
            "(1, 1000)\n",
            "1/1 [==============================] - 1s 519ms/step\n",
            "(1, 1000)\n",
            "1/1 [==============================] - 1s 513ms/step\n",
            "(1, 1000)\n",
            "1/1 [==============================] - 1s 526ms/step\n",
            "(1, 1000)\n",
            "1/1 [==============================] - 1s 515ms/step\n",
            "(1, 1000)\n",
            "1/1 [==============================] - 1s 528ms/step\n",
            "(1, 1000)\n",
            "1/1 [==============================] - 1s 513ms/step\n",
            "(1, 1000)\n",
            "1/1 [==============================] - 1s 676ms/step\n",
            "(1, 1000)\n",
            "1/1 [==============================] - 1s 945ms/step\n",
            "(1, 1000)\n",
            "1/1 [==============================] - 1s 852ms/step\n",
            "(1, 1000)\n",
            "1/1 [==============================] - 1s 905ms/step\n",
            "(1, 1000)\n",
            "1/1 [==============================] - 1s 705ms/step\n",
            "(1, 1000)\n",
            "1/1 [==============================] - 1s 518ms/step\n",
            "(1, 1000)\n",
            "1/1 [==============================] - 1s 528ms/step\n",
            "(1, 1000)\n",
            "1/1 [==============================] - 1s 515ms/step\n",
            "(1, 1000)\n",
            "1/1 [==============================] - 1s 526ms/step\n",
            "(1, 1000)\n",
            "1/1 [==============================] - 1s 517ms/step\n",
            "(1, 1000)\n",
            "1/1 [==============================] - 1s 530ms/step\n",
            "(1, 1000)\n",
            "1/1 [==============================] - 1s 523ms/step\n",
            "(1, 1000)\n",
            "1/1 [==============================] - 1s 516ms/step\n",
            "(1, 1000)\n",
            "1/1 [==============================] - 1s 534ms/step\n",
            "(1, 1000)\n",
            "1/1 [==============================] - 1s 517ms/step\n",
            "(1, 1000)\n",
            "1/1 [==============================] - 1s 537ms/step\n",
            "(1, 1000)\n",
            "1/1 [==============================] - 1s 520ms/step\n",
            "(1, 1000)\n",
            "1/1 [==============================] - 1s 528ms/step\n",
            "(1, 1000)\n",
            "1/1 [==============================] - 1s 517ms/step\n",
            "(1, 1000)\n",
            "1/1 [==============================] - 1s 530ms/step\n",
            "(1, 1000)\n",
            "1/1 [==============================] - 1s 522ms/step\n",
            "(1, 1000)\n",
            "1/1 [==============================] - 1s 615ms/step\n",
            "(1, 1000)\n",
            "1/1 [==============================] - 1s 922ms/step\n",
            "(1, 1000)\n",
            "1/1 [==============================] - 1s 903ms/step\n",
            "(1, 1000)\n",
            "1/1 [==============================] - 1s 907ms/step\n",
            "(1, 1000)\n",
            "1/1 [==============================] - 1s 657ms/step\n",
            "(1, 1000)\n",
            "1/1 [==============================] - 1s 522ms/step\n",
            "(1, 1000)\n",
            "1/1 [==============================] - 1s 524ms/step\n",
            "(1, 1000)\n",
            "1/1 [==============================] - 1s 511ms/step\n",
            "(1, 1000)\n",
            "1/1 [==============================] - 1s 532ms/step\n",
            "(1, 1000)\n",
            "1/1 [==============================] - 1s 523ms/step\n",
            "(1, 1000)\n",
            "1/1 [==============================] - 1s 523ms/step\n",
            "(1, 1000)\n",
            "1/1 [==============================] - 1s 535ms/step\n",
            "(1, 1000)\n",
            "1/1 [==============================] - 1s 512ms/step\n",
            "(1, 1000)\n",
            "1/1 [==============================] - 1s 533ms/step\n",
            "(1, 1000)\n",
            "1/1 [==============================] - 1s 511ms/step\n",
            "(1, 1000)\n",
            "1/1 [==============================] - 1s 527ms/step\n",
            "(1, 1000)\n",
            "1/1 [==============================] - 1s 541ms/step\n",
            "(1, 1000)\n",
            "1/1 [==============================] - 1s 524ms/step\n",
            "(1, 1000)\n",
            "1/1 [==============================] - 1s 529ms/step\n",
            "(1, 1000)\n",
            "1/1 [==============================] - 1s 508ms/step\n",
            "(1, 1000)\n",
            "1/1 [==============================] - 1s 541ms/step\n",
            "(1, 1000)\n",
            "1/1 [==============================] - 1s 647ms/step\n",
            "(1, 1000)\n",
            "1/1 [==============================] - 1s 915ms/step\n",
            "(1, 1000)\n",
            "1/1 [==============================] - 1s 906ms/step\n",
            "(1, 1000)\n",
            "1/1 [==============================] - 1s 853ms/step\n",
            "(1, 1000)\n",
            "1/1 [==============================] - 1s 716ms/step\n",
            "(1, 1000)\n",
            "1/1 [==============================] - 1s 528ms/step\n",
            "(1, 1000)\n",
            "1/1 [==============================] - 1s 515ms/step\n",
            "(1, 1000)\n",
            "1/1 [==============================] - 1s 534ms/step\n",
            "(1, 1000)\n",
            "1/1 [==============================] - 1s 522ms/step\n",
            "(1, 1000)\n",
            "1/1 [==============================] - 1s 522ms/step\n",
            "(1, 1000)\n",
            "1/1 [==============================] - 1s 518ms/step\n",
            "(1, 1000)\n",
            "1/1 [==============================] - 1s 524ms/step\n",
            "(1, 1000)\n",
            "1/1 [==============================] - 1s 527ms/step\n",
            "(1, 1000)\n",
            "1/1 [==============================] - 1s 516ms/step\n",
            "(1, 1000)\n",
            "1/1 [==============================] - 1s 529ms/step\n",
            "(1, 1000)\n",
            "1/1 [==============================] - 1s 521ms/step\n",
            "(1, 1000)\n",
            "1/1 [==============================] - 1s 527ms/step\n",
            "(1, 1000)\n",
            "1/1 [==============================] - 1s 513ms/step\n",
            "(1, 1000)\n",
            "1/1 [==============================] - 1s 522ms/step\n",
            "(1, 1000)\n",
            "1/1 [==============================] - 1s 531ms/step\n",
            "(1, 1000)\n",
            "1/1 [==============================] - 1s 516ms/step\n",
            "(1, 1000)\n",
            "1/1 [==============================] - 1s 624ms/step\n",
            "(1, 1000)\n",
            "1/1 [==============================] - 1s 890ms/step\n",
            "(1, 1000)\n",
            "1/1 [==============================] - 1s 805ms/step\n",
            "(1, 1000)\n",
            "1/1 [==============================] - 1s 911ms/step\n",
            "(1, 1000)\n",
            "1/1 [==============================] - 1s 739ms/step\n",
            "(1, 1000)\n",
            "1/1 [==============================] - 1s 529ms/step\n",
            "(1, 1000)\n",
            "1/1 [==============================] - 1s 518ms/step\n",
            "(1, 1000)\n",
            "1/1 [==============================] - 1s 535ms/step\n",
            "(1, 1000)\n",
            "1/1 [==============================] - 1s 530ms/step\n",
            "(1, 1000)\n",
            "1/1 [==============================] - 1s 518ms/step\n",
            "(1, 1000)\n",
            "1/1 [==============================] - 1s 530ms/step\n",
            "(1, 1000)\n",
            "1/1 [==============================] - 1s 525ms/step\n",
            "(1, 1000)\n",
            "1/1 [==============================] - 1s 530ms/step\n",
            "(1, 1000)\n",
            "1/1 [==============================] - 1s 508ms/step\n",
            "(1, 1000)\n",
            "1/1 [==============================] - 1s 528ms/step\n",
            "(1, 1000)\n",
            "1/1 [==============================] - 1s 525ms/step\n",
            "(1, 1000)\n",
            "1/1 [==============================] - 1s 512ms/step\n",
            "(1, 1000)\n",
            "1/1 [==============================] - 1s 532ms/step\n",
            "(1, 1000)\n",
            "1/1 [==============================] - 1s 512ms/step\n",
            "(1, 1000)\n",
            "1/1 [==============================] - 1s 527ms/step\n",
            "(1, 1000)\n",
            "1/1 [==============================] - 1s 523ms/step\n",
            "(1, 1000)\n",
            "1/1 [==============================] - 1s 588ms/step\n",
            "(1, 1000)\n",
            "1/1 [==============================] - 1s 906ms/step\n",
            "(1, 1000)\n",
            "1/1 [==============================] - 1s 838ms/step\n",
            "(1, 1000)\n",
            "1/1 [==============================] - 1s 891ms/step\n",
            "(1, 1000)\n",
            "1/1 [==============================] - 1s 762ms/step\n",
            "(1, 1000)\n",
            "1/1 [==============================] - 1s 520ms/step\n",
            "(1, 1000)\n",
            "1/1 [==============================] - 1s 529ms/step\n",
            "(1, 1000)\n",
            "1/1 [==============================] - 1s 514ms/step\n",
            "(1, 1000)\n",
            "1/1 [==============================] - 1s 542ms/step\n",
            "(1, 1000)\n",
            "1/1 [==============================] - 1s 518ms/step\n",
            "(1, 1000)\n",
            "1/1 [==============================] - 1s 526ms/step\n",
            "(1, 1000)\n",
            "1/1 [==============================] - 1s 520ms/step\n",
            "(1, 1000)\n",
            "1/1 [==============================] - 1s 533ms/step\n",
            "(1, 1000)\n",
            "1/1 [==============================] - 1s 526ms/step\n",
            "(1, 1000)\n",
            "1/1 [==============================] - 1s 507ms/step\n",
            "(1, 1000)\n",
            "1/1 [==============================] - 1s 522ms/step\n",
            "(1, 1000)\n",
            "1/1 [==============================] - 1s 514ms/step\n",
            "(1, 1000)\n",
            "1/1 [==============================] - 1s 529ms/step\n",
            "(1, 1000)\n",
            "1/1 [==============================] - 1s 514ms/step\n",
            "(1, 1000)\n",
            "1/1 [==============================] - 1s 532ms/step\n",
            "(1, 1000)\n",
            "1/1 [==============================] - 1s 518ms/step\n",
            "(1, 1000)\n",
            "1/1 [==============================] - 1s 544ms/step\n",
            "(1, 1000)\n",
            "1/1 [==============================] - 1s 829ms/step\n",
            "(1, 1000)\n",
            "1/1 [==============================] - 1s 858ms/step\n",
            "(1, 1000)\n",
            "1/1 [==============================] - 1s 929ms/step\n",
            "(1, 1000)\n",
            "1/1 [==============================] - 1s 841ms/step\n",
            "(1, 1000)\n",
            "1/1 [==============================] - 1s 509ms/step\n",
            "(1, 1000)\n",
            "1/1 [==============================] - 1s 525ms/step\n",
            "(1, 1000)\n",
            "1/1 [==============================] - 1s 513ms/step\n",
            "(1, 1000)\n",
            "1/1 [==============================] - 1s 529ms/step\n",
            "(1, 1000)\n",
            "1/1 [==============================] - 1s 513ms/step\n",
            "(1, 1000)\n",
            "1/1 [==============================] - 1s 531ms/step\n",
            "(1, 1000)\n",
            "1/1 [==============================] - 1s 534ms/step\n",
            "(1, 1000)\n",
            "1/1 [==============================] - 1s 520ms/step\n",
            "(1, 1000)\n",
            "1/1 [==============================] - 1s 529ms/step\n",
            "(1, 1000)\n",
            "1/1 [==============================] - 1s 515ms/step\n",
            "(1, 1000)\n",
            "1/1 [==============================] - 1s 525ms/step\n",
            "(1, 1000)\n",
            "1/1 [==============================] - 1s 511ms/step\n",
            "(1, 1000)\n",
            "1/1 [==============================] - 1s 527ms/step\n",
            "(1, 1000)\n",
            "1/1 [==============================] - 1s 524ms/step\n",
            "(1, 1000)\n",
            "1/1 [==============================] - 1s 515ms/step\n",
            "(1, 1000)\n",
            "1/1 [==============================] - 1s 541ms/step\n",
            "(1, 1000)\n",
            "1/1 [==============================] - 1s 516ms/step\n",
            "(1, 1000)\n",
            "1/1 [==============================] - 1s 805ms/step\n",
            "(1, 1000)\n",
            "1/1 [==============================] - 1s 870ms/step\n",
            "(1, 1000)\n",
            "1/1 [==============================] - 1s 842ms/step\n",
            "(1, 1000)\n",
            "1/1 [==============================] - 1s 857ms/step\n",
            "(1, 1000)\n",
            "1/1 [==============================] - 1s 627ms/step\n",
            "(1, 1000)\n",
            "1/1 [==============================] - 1s 535ms/step\n",
            "(1, 1000)\n",
            "1/1 [==============================] - 1s 520ms/step\n",
            "(1, 1000)\n",
            "1/1 [==============================] - 1s 521ms/step\n",
            "(1, 1000)\n",
            "1/1 [==============================] - 1s 622ms/step\n",
            "(1, 1000)\n",
            "1/1 [==============================] - 1s 913ms/step\n",
            "(1, 1000)\n",
            "1/1 [==============================] - 1s 901ms/step\n",
            "(1, 1000)\n",
            "1/1 [==============================] - 1s 892ms/step\n",
            "(1, 1000)\n",
            "1/1 [==============================] - 1s 731ms/step\n",
            "(1, 1000)\n",
            "1/1 [==============================] - 1s 531ms/step\n",
            "(1, 1000)\n",
            "1/1 [==============================] - 1s 519ms/step\n",
            "(1, 1000)\n",
            "1/1 [==============================] - 1s 521ms/step\n",
            "(1, 1000)\n",
            "1/1 [==============================] - 1s 531ms/step\n",
            "(1, 1000)\n",
            "1/1 [==============================] - 1s 520ms/step\n",
            "(1, 1000)\n",
            "1/1 [==============================] - 1s 612ms/step\n",
            "(1, 1000)\n",
            "1/1 [==============================] - 1s 841ms/step\n",
            "(1, 1000)\n",
            "1/1 [==============================] - 1s 814ms/step\n",
            "(1, 1000)\n",
            "1/1 [==============================] - 1s 918ms/step\n",
            "(1, 1000)\n",
            "1/1 [==============================] - 1s 822ms/step\n",
            "(1, 1000)\n",
            "1/1 [==============================] - 1s 526ms/step\n",
            "(1, 1000)\n",
            "1/1 [==============================] - 1s 528ms/step\n",
            "(1, 1000)\n",
            "1/1 [==============================] - 1s 511ms/step\n",
            "(1, 1000)\n",
            "1/1 [==============================] - 1s 539ms/step\n",
            "(1, 1000)\n",
            "1/1 [==============================] - 1s 513ms/step\n",
            "(1, 1000)\n",
            "1/1 [==============================] - 1s 531ms/step\n",
            "(1, 1000)\n",
            "1/1 [==============================] - 1s 520ms/step\n",
            "(1, 1000)\n",
            "1/1 [==============================] - 1s 526ms/step\n",
            "(1, 1000)\n",
            "1/1 [==============================] - 1s 523ms/step\n",
            "(1, 1000)\n",
            "1/1 [==============================] - 1s 527ms/step\n",
            "(1, 1000)\n",
            "1/1 [==============================] - 1s 527ms/step\n",
            "(1, 1000)\n",
            "1/1 [==============================] - 1s 520ms/step\n",
            "(1, 1000)\n",
            "1/1 [==============================] - 1s 533ms/step\n",
            "(1, 1000)\n",
            "1/1 [==============================] - 1s 512ms/step\n",
            "(1, 1000)\n",
            "1/1 [==============================] - 1s 528ms/step\n",
            "(1, 1000)\n",
            "1/1 [==============================] - 1s 517ms/step\n",
            "(1, 1000)\n",
            "1/1 [==============================] - 1s 528ms/step\n",
            "(1, 1000)\n",
            "1/1 [==============================] - 1s 856ms/step\n",
            "(1, 1000)\n",
            "1/1 [==============================] - 1s 892ms/step\n",
            "(1, 1000)\n",
            "1/1 [==============================] - 1s 954ms/step\n",
            "(1, 1000)\n",
            "1/1 [==============================] - 1s 860ms/step\n",
            "(1, 1000)\n",
            "1/1 [==============================] - 1s 514ms/step\n",
            "(1, 1000)\n",
            "1/1 [==============================] - 1s 530ms/step\n",
            "(1, 1000)\n",
            "1/1 [==============================] - 1s 518ms/step\n",
            "(1, 1000)\n",
            "1/1 [==============================] - 1s 535ms/step\n",
            "(1, 1000)\n",
            "1/1 [==============================] - 1s 519ms/step\n",
            "(1, 1000)\n"
          ]
        }
      ]
    },
    {
      "cell_type": "code",
      "source": [
        "data_list[0].shape"
      ],
      "metadata": {
        "colab": {
          "base_uri": "https://localhost:8080/"
        },
        "id": "DPxLH4hBCHD-",
        "outputId": "2a46a518-8331-4228-c5e2-bc35a1dca5ba"
      },
      "execution_count": 157,
      "outputs": [
        {
          "output_type": "execute_result",
          "data": {
            "text/plain": [
              "(1, 1000)"
            ]
          },
          "metadata": {},
          "execution_count": 157
        }
      ]
    },
    {
      "cell_type": "code",
      "source": [
        "data_list = [x[0,:] for x in data_list]"
      ],
      "metadata": {
        "id": "dR7sBT8VAXep"
      },
      "execution_count": 158,
      "outputs": []
    },
    {
      "cell_type": "code",
      "source": [
        "from sklearn.cluster import k_means"
      ],
      "metadata": {
        "id": "9a3f5f5vcfQd"
      },
      "execution_count": 163,
      "outputs": []
    },
    {
      "cell_type": "markdown",
      "source": [
        "## k means algorithem"
      ],
      "metadata": {
        "id": "usQEpB97-iol"
      }
    },
    {
      "cell_type": "markdown",
      "source": [
        "at first we calculate optimal K and as it has shown in graph at point 10 we have ebow\n",
        "because of the data this ebow isnt very nice"
      ],
      "metadata": {
        "id": "7925kr88GyxX"
      }
    },
    {
      "cell_type": "code",
      "source": [
        "Sum_of_squared_distances = []\n",
        "K = range(5,12)\n",
        "for num_clusters in K :\n",
        " _ , kmeans , inertia = k_means(data_list ,  n_clusters=num_clusters)\n",
        " Sum_of_squared_distances.append(inertia)\n",
        "plt.plot(K,Sum_of_squared_distances,'bx-')\n",
        "plt.xlabel('Values of K')\n",
        "plt.ylabel('Sum of squared distances/Inertia')\n",
        "plt.title('Elbow Method For Optimal k')\n",
        "plt.show()"
      ],
      "metadata": {
        "colab": {
          "base_uri": "https://localhost:8080/",
          "height": 472
        },
        "id": "0D0q0yci_aVU",
        "outputId": "63007b68-fe80-4451-e830-8c7a1ced9942"
      },
      "execution_count": 169,
      "outputs": [
        {
          "output_type": "display_data",
          "data": {
            "text/plain": [
              "<Figure size 640x480 with 1 Axes>"
            ],
            "image/png": "[encoded data removed]"
          },
          "metadata": {}
        }
      ]
    },
    {
      "cell_type": "markdown",
      "source": [
        "#### so lets clustering at k = 10"
      ],
      "metadata": {
        "id": "RYdu-jG0HLqk"
      }
    },
    {
      "cell_type": "code",
      "source": [
        "centroids, k_means_pred_labels,interia = k_means(data_list,n_clusters=10)"
      ],
      "metadata": {
        "id": "8RjzTirSmfGS"
      },
      "execution_count": 174,
      "outputs": []
    },
    {
      "cell_type": "code",
      "source": [
        "print(k_means_pred_labels)"
      ],
      "metadata": {
        "colab": {
          "base_uri": "https://localhost:8080/"
        },
        "id": "RiPjk3AqeRup",
        "outputId": "0e997eff-0df1-4361-97e3-db69ddc348b8"
      },
      "execution_count": 175,
      "outputs": [
        {
          "output_type": "stream",
          "name": "stdout",
          "text": [
            "[7 8 6 6 8 8 0 8 0 6 0 3 7 8 7 3 3 2 6 7 1 8 8 8 8 7 9 1 8 9 8 2 7 3 3 7 5\n",
            " 9 8 7 2 0 8 1 8 1 0 8 0 1 3 8 8 0 0 8 1 8 8 8 8 3 7 8 0 8 0 2 8 8 8 8 5 8\n",
            " 4 4 8 8 1 1 8 7 0 2 8 7 1 3 8 2 7 9 6 5 1 2 3 8 8 8 3 3 0 8 8 3 8 8 5 8 1\n",
            " 8 6 0 8 1 8 8 3 3 4 3 3 6 7 4 0 0 8 5 8 0 8 0 0 0 3 3 3 8 0 8 0 8 8 3 1 8\n",
            " 3 8 4 3 8 8 8 8 7 3 8 3 8 0 2 3 2 0 1 7 8 8 2 8 1 2 8 3 1 9 8 8 3 1 8 3 7\n",
            " 8 5 0 3 8 8 8 8 8 8 5 8 8 3 8 8 6 8 1 8 7 0 7 8 8]\n"
          ]
        }
      ]
    },
    {
      "cell_type": "code",
      "source": [
        "labels  = [x for x in label_dict.values()]\n",
        "print(labels)"
      ],
      "metadata": {
        "colab": {
          "base_uri": "https://localhost:8080/"
        },
        "id": "f2Iv51xpeSyD",
        "outputId": "624ab085-fc84-404e-e1eb-8a55999aa9b5"
      },
      "execution_count": 176,
      "outputs": [
        {
          "output_type": "stream",
          "name": "stdout",
          "text": [
            "[5, 1, 6, 6, 9, 7, 2, 8, 4, 7, 4, 7, 8, 1, 9, 8, 0, 1, 6, 9, 2, 3, 3, 5, 6, 2, 0, 9, 9, 1, 8, 8, 8, 1, 3, 0, 0, 1, 6, 5, 8, 4, 2, 2, 5, 2, 2, 3, 4, 7, 6, 1, 9, 4, 2, 9, 8, 8, 3, 6, 5, 0, 8, 5, 4, 3, 4, 1, 5, 1, 9, 0, 6, 7, 9, 9, 0, 3, 2, 2, 8, 0, 4, 8, 1, 3, 6, 7, 3, 8, 3, 0, 2, 6, 2, 8, 0, 1, 5, 6, 7, 0, 4, 5, 3, 9, 6, 9, 9, 9, 2, 1, 6, 4, 0, 2, 7, 5, 8, 3, 5, 3, 7, 6, 8, 5, 2, 4, 3, 1, 5, 4, 5, 4, 4, 4, 0, 8, 9, 5, 4, 3, 4, 6, 1, 7, 7, 5, 6, 5, 0, 8, 1, 3, 3, 0, 3, 7, 6, 8, 5, 4, 8, 8, 8, 4, 5, 8, 6, 5, 1, 5, 2, 1, 5, 0, 2, 0, 1, 6, 0, 2, 6, 3, 0, 3, 8, 4, 7, 0, 5, 3, 5, 7, 9, 6, 8, 1, 9, 1, 8, 6, 3, 2, 6, 5, 4, 7, 9, 0]\n"
          ]
        }
      ]
    },
    {
      "cell_type": "markdown",
      "source": [
        "from sklearn.metrics.cluster import homogeneity_score,silhouette_score\n",
        "print(f\"homogeneity score of kmeans: {homogeneity_score(labels,k_means_pred_labels)}\")\n",
        "print(f\"silhouette score of kmeans: {silhouette_score(data_list,k_means_pred_labels)}\")"
      ],
      "metadata": {
        "id": "C61tlOuIlEiF"
      }
    },
    {
      "cell_type": "markdown",
      "source": [
        "## reduction\n",
        "### we reduce dimension of array in the way we can map them to a cordinate in decartian plane in 2D display and vissualize the result"
      ],
      "metadata": {
        "id": "R1sy0-vjHSMz"
      }
    },
    {
      "cell_type": "code",
      "source": [
        "reduced_vectors = PCA(n_components=2).fit_transform(data_list)"
      ],
      "metadata": {
        "id": "SrCbaOsIoK8P"
      },
      "execution_count": 177,
      "outputs": []
    },
    {
      "cell_type": "code",
      "source": [
        "import matplotlib.pyplot as plt\n"
      ],
      "metadata": {
        "id": "miEVHBWBogtY"
      },
      "execution_count": 178,
      "outputs": []
    },
    {
      "cell_type": "markdown",
      "source": [
        "### plot for result of k-means"
      ],
      "metadata": {
        "id": "6KRY-EIoIN5L"
      }
    },
    {
      "cell_type": "code",
      "source": [
        "u_labels = list(range(10))\n",
        "for i in u_labels:\n",
        "    x = []\n",
        "    y= []\n",
        "    for j in range(len(reduced_vectors)):\n",
        "      if (k_means_pred_labels[j] == i):\n",
        "        x.append(reduced_vectors[j][0])\n",
        "        y.append(reduced_vectors[j][1])\n",
        "    plt.scatter(x , y , label = i)\n",
        "plt.legend()\n",
        "plt.show()"
      ],
      "metadata": {
        "colab": {
          "base_uri": "https://localhost:8080/",
          "height": 430
        },
        "id": "4tjsTfYMpkIt",
        "outputId": "67bc5058-a8bb-4919-c90c-ec60f2e727e7"
      },
      "execution_count": 179,
      "outputs": [
        {
          "output_type": "display_data",
          "data": {
            "text/plain": [
              "<Figure size 640x480 with 1 Axes>"
            ],
            "image/png": "[encoded data removed]"
          },
          "metadata": {}
        }
      ]
    },
    {
      "cell_type": "code",
      "source": [
        "u_labels = list(range(10))\n",
        "for i in u_labels:\n",
        "    x = []\n",
        "    y= []\n",
        "    for j in range(len(reduced_vectors)):\n",
        "\n",
        "      if (labels[j] == i):\n",
        "        x.append(reduced_vectors[j][0])\n",
        "        y.append(reduced_vectors[j][1])\n",
        "    plt.scatter(x , y , label = i)\n",
        "plt.legend()\n",
        "plt.show()"
      ],
      "metadata": {
        "colab": {
          "base_uri": "https://localhost:8080/",
          "height": 430
        },
        "id": "pA0Sh-WMsIv4",
        "outputId": "489f7982-9dfb-4a01-f7a5-ad038ddc917c"
      },
      "execution_count": 180,
      "outputs": [
        {
          "output_type": "display_data",
          "data": {
            "text/plain": [
              "<Figure size 640x480 with 1 Axes>"
            ],
            "image/png": "[encoded data removed]"
          },
          "metadata": {}
        }
      ]
    },
    {
      "cell_type": "markdown",
      "source": [
        "## dbscan\n",
        "### In this section we cluster data using the dbscan algorithm cluster at first we normalize data then they enter to dbscan model and db scan has very low accuracy in this awful data"
      ],
      "metadata": {
        "id": "JI6-MvVpJZFG"
      }
    },
    {
      "cell_type": "code",
      "source": [
        "from sklearn.cluster import DBSCAN"
      ],
      "metadata": {
        "id": "0P2Rkm_turbB"
      },
      "execution_count": 183,
      "outputs": []
    },
    {
      "cell_type": "code",
      "source": [
        "from sklearn import preprocessing"
      ],
      "metadata": {
        "id": "o9mAttoU5UDm"
      },
      "execution_count": 184,
      "outputs": []
    },
    {
      "cell_type": "code",
      "source": [
        "data_list = [preprocessing.normalize([x]) for x in data_list]"
      ],
      "metadata": {
        "id": "tyDtTPCC5aJE"
      },
      "execution_count": 187,
      "outputs": []
    },
    {
      "cell_type": "code",
      "source": [
        "data_list[0].shape"
      ],
      "metadata": {
        "colab": {
          "base_uri": "https://localhost:8080/"
        },
        "id": "ndXCCNib6CKy",
        "outputId": "74fa4371-0506-4a39-80b3-560774543f51"
      },
      "execution_count": 188,
      "outputs": [
        {
          "output_type": "execute_result",
          "data": {
            "text/plain": [
              "(1, 1000)"
            ]
          },
          "metadata": {},
          "execution_count": 188
        }
      ]
    },
    {
      "cell_type": "code",
      "source": [
        "data_list = [x[0,:] for x in data_list]"
      ],
      "metadata": {
        "id": "bucDD4Fg6RXH"
      },
      "execution_count": 189,
      "outputs": []
    },
    {
      "cell_type": "code",
      "source": [
        "data_list[0].shape"
      ],
      "metadata": {
        "colab": {
          "base_uri": "https://localhost:8080/"
        },
        "id": "QzVj22Ac6TWW",
        "outputId": "05c373e6-0067-45ca-ba7d-76f5c32adf08"
      },
      "execution_count": 190,
      "outputs": [
        {
          "output_type": "execute_result",
          "data": {
            "text/plain": [
              "(1000,)"
            ]
          },
          "metadata": {},
          "execution_count": 190
        }
      ]
    },
    {
      "cell_type": "code",
      "source": [
        "db_train_clusters = DBSCAN(eps = 0.5896).fit_predict(data_list)\n",
        "print(db_train_clusters)\n",
        "print(max(db_train_clusters))"
      ],
      "metadata": {
        "colab": {
          "base_uri": "https://localhost:8080/"
        },
        "id": "GiZ7h4m-v1eY",
        "outputId": "f5856c4a-fe40-4e0e-fc72-105274640557"
      },
      "execution_count": 191,
      "outputs": [
        {
          "output_type": "stream",
          "name": "stdout",
          "text": [
            "[-1 -1  0 -1 -1 -1  1 -1  1  0  1  2  3 -1 -1  2  2  4  0  3  2 -1 -1 -1\n",
            "  5  3  6 -1 -1  6 -1  4 -1  2 -1  3  7  6  9  3  4  1 -1  1 -1  1  1 -1\n",
            "  1 -1  2 -1  2  1  1  5 -1  6 -1 -1 -1  2  3 -1  1 -1  1  4 -1 -1  5 -1\n",
            "  7 -1  8  8 -1 -1  1 -1 -1  2  1  4 -1  3 -1 -1 -1  4 -1  6  0 -1 -1  4\n",
            " -1  2 -1 -1  2 -1  1 -1 -1  2 -1 -1  7 -1  1 -1  0  1  9 -1 -1 -1  2  2\n",
            "  8 -1  2  0  3  8  1  1 -1  7  9  1  9  1  1  1  2  2  2 -1  1 -1  1 -1\n",
            " -1 -1 -1  9  2  9  8 -1 -1 -1 -1 -1  3  2  5  2 -1  1  4  2  4  1 -1  3\n",
            " -1 -1 -1 -1  1  4 -1  2 -1  6  5 -1  2  1 -1  2 -1 -1  7  1  2 -1 -1 -1\n",
            " -1 -1 -1  7 -1 -1  2 -1 -1  0 -1 -1 -1  3  1 -1  8 -1]\n",
            "9\n"
          ]
        }
      ]
    },
    {
      "cell_type": "code",
      "source": [
        "print(f\"homogeneity score of kmeans: {homogeneity_score(labels,db_train_clusters)}\")\n",
        "print(f\"silhouette score of kmeans: {silhouette_score(data_list,db_train_clusters)}\")"
      ],
      "metadata": {
        "colab": {
          "base_uri": "https://localhost:8080/"
        },
        "id": "LF_YOliM7pPk",
        "outputId": "1d652990-5048-4b1b-f0ca-d0961115ad09"
      },
      "execution_count": 192,
      "outputs": [
        {
          "output_type": "stream",
          "name": "stdout",
          "text": [
            "homogeneity score of kmeans: 0.3019544183461196\n",
            "silhouette score of kmeans: 0.23027268657586886\n"
          ]
        }
      ]
    },
    {
      "cell_type": "markdown",
      "source": [
        "#### the result of dbscan clustering"
      ],
      "metadata": {
        "id": "3TjXOlqPKD_Y"
      }
    },
    {
      "cell_type": "code",
      "source": [
        "u_labels = list(range(10))\n",
        "for i in u_labels:\n",
        "    x = []\n",
        "    y= []\n",
        "    for j in range(len(reduced_vectors)):\n",
        "      if (db_train_clusters[j] == i):\n",
        "        x.append(reduced_vectors[j][0])\n",
        "        y.append(reduced_vectors[j][1])\n",
        "    plt.scatter(x , y , label = i)\n",
        "plt.legend()\n",
        "plt.show()"
      ],
      "metadata": {
        "colab": {
          "base_uri": "https://localhost:8080/",
          "height": 430
        },
        "id": "7bl3B7upv6av",
        "outputId": "417acfbb-1a70-4c46-f312-a37d7d9de916"
      },
      "execution_count": 193,
      "outputs": [
        {
          "output_type": "display_data",
          "data": {
            "text/plain": [
              "<Figure size 640x480 with 1 Axes>"
            ],
            "image/png": "[encoded data removed]"
          },
          "metadata": {}
        }
      ]
    },
    {
      "cell_type": "markdown",
      "source": [
        "# questions\n",
        "## 1. We are using features because using features has better results and it is possible that the intensity of pixels be different at the colors, etc but features like patterns make classify easier\n",
        "## 2. Feature Extraction uses an object-based approach to classify imagery, where an object (also called segment) is a group of pixels with similar spectral, spatial, and/or texture attributes. Traditional classification methods are pixel-based, meaning that spectral information in each pixel is used to classify imagery. three methods are Histogram of Oriented Gradients (HOG) for object detection, Local Binary Patterns (LBP) for texture analysis, and Color Histograms for color information\n",
        "## 3. \"garbage in garbage out\" At first data should be good here it's not then we should denoise pictures and remove additional things like useless pad then we can use them in the superior layers\n",
        "### 4. K-Means tends to work well when the data is well-separated and evenly distributed, while DBSCAN is better suited for datasets with irregular shapes or varying densities\n",
        "### 5. using elbow rules that descibed above\n",
        "### 6. boath are shiiiiit but k means is better as you can see in deagrams\n",
        "### 7. Principal component analysis (PCA) is a statistical technique to reduce the dimensionality of complex, high-volume datasets by extracting the principal components that contain the most information and rejecting noise or less important data while preserving all the crucial details\n",
        "### 8. Silhouette Score is a tool for assessing the appropriateness of clustering results by providing a quantitative measure of how well-defined and distinct the clusters are . The homogeneity score is a metric to measure the homogeneity of a clustering. A clustering result satisfies homogeneity if all of its clusters contain only data points which are members of a single class. The metric is not symmetric, therefore swapping preds and target yields a different\n",
        "### 9. It is printed above\n",
        "### 10. improve data, use better preprocessing and dont be silly"
      ],
      "metadata": {
        "id": "xckywU-1KrLi"
      }
    }
  ]
}